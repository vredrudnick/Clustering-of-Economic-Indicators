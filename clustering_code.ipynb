{
  "nbformat": 4,
  "nbformat_minor": 0,
  "metadata": {
    "colab": {
      "provenance": []
    },
    "kernelspec": {
      "name": "python3",
      "display_name": "Python 3"
    },
    "language_info": {
      "name": "python"
    }
  },
  "cells": [
    {
      "cell_type": "markdown",
      "source": [
        "**Block 1 (Packages and Setup)**\n",
        "- install wbdata\n",
        "- import all necessary libraries\n",
        "- load data (wbdata or local file)"
      ],
      "metadata": {
        "id": "4P-kxjnblXNh"
      }
    },
    {
      "cell_type": "code",
      "execution_count": null,
      "metadata": {
        "id": "iexZDK3HdBFG",
        "collapsed": true
      },
      "outputs": [],
      "source": [
        "# 1.1 - installing wbdata (colab based)\n",
        "!pip install wbdata"
      ]
    },
    {
      "cell_type": "code",
      "source": [
        "# 1.2 - import packages\n",
        "import wbdata\n",
        "import datetime\n",
        "import pandas as pd\n",
        "import numpy as np\n",
        "from google.colab import files\n",
        "from sklearn.preprocessing import StandardScaler\n",
        "from sklearn.cluster import SpectralClustering\n",
        "from scipy.linalg import eigh\n",
        "import matplotlib.pyplot as plt"
      ],
      "metadata": {
        "id": "uAS4nthfd6yt"
      },
      "execution_count": null,
      "outputs": []
    },
    {
      "cell_type": "code",
      "source": [
        "# 1.3 - download data (unemployment, cpi inflation)\n",
        "country_group = [\n",
        "    \"MWI\", \"MLI\", \"MLT\", \"NLD\", \"GMB\", \"GBR\", \"USA\", \"ARE\", \"AFG\", \"AUT\",\n",
        "    \"AUS\", \"BFA\", \"BDI\", \"BEN\", \"DNK\", \"ETH\", \"DJI\", \"FIN\", \"FRA\", \"DEU\",\n",
        "    \"IRL\", \"JPN\", \"LSO\", \"LUX\", \"LBR\", \"NER\", \"NOR\", \"PAK\", \"SVN\", \"SGP\",\n",
        "    \"ESP\", \"GIN\", \"GNB\", \"HKG\", \"ISL\", \"CHE\", \"SWE\", \"ISR\", \"KOR\", \"MOZ\",\n",
        "    \"TCD\", \"TZA\", \"SLE\", \"MDG\", \"CAF\", \"HTI\", \"SEN\", \"BEL\", \"CAN\", \"SSD\",\n",
        "    \"CZE\", \"NGA\", \"MRT\", \"TGO\", \"ITA\", \"CYP\", \"PNG\", \"RWA\", \"UGA\", \"CIV\",\n",
        "    \"GRC\", \"POL\", \"EST\", \"SAU\", \"BHR\", \"LTU\", \"SLB\", \"CMR\", \"ZMB\", \"KHM\"\n",
        "    ]\n",
        "\n",
        "indicators = {\n",
        "    \"FP.CPI.TOTL.ZG\": \"CPI Inflation\",\n",
        "    \"SL.UEM.TOTL.ZS\": \"Unemployment Rate\",\n",
        "    \"FD.RES.LIQU.AS.ZS\": \"Bank Liquid to Assets\"\n",
        "    }\n",
        "\n",
        "date_10 = (datetime.datetime(2010, 1, 1), datetime.datetime(2010, 12, 31))\n",
        "date_13 = (datetime.datetime(2013, 1, 1), datetime.datetime(2013, 12, 31))\n",
        "date_23 = (datetime.datetime(2023, 1, 1), datetime.datetime(2023, 12, 31))\n",
        "date_18 = (datetime.datetime(2018, 1, 1), datetime.datetime(2018, 12, 31))\n",
        "df = wbdata.get_dataframe(indicators, country=country_group, date=date_10)\n",
        "df.reset_index(inplace=True)"
      ],
      "metadata": {
        "id": "OprbnWsheMyu"
      },
      "execution_count": null,
      "outputs": []
    },
    {
      "cell_type": "code",
      "source": [
        "# 1.4 - workaround in case of wbdata API issues (either execute 1.3 or 1.4)\n",
        "df_alternative = pd.read_csv(\".csv\")"
      ],
      "metadata": {
        "id": "fV66qkJJgSfW"
      },
      "execution_count": null,
      "outputs": []
    },
    {
      "cell_type": "markdown",
      "source": [
        "**Block 2 (Data Cleaning and Transformation)**\n",
        "- Convert DataFrames to np.ndarray\n",
        "- Ensure feature vectors are ready for analysis (drop non-numeric entries etc.)\n",
        "- Build dictionaries between data, data index, and country names\n",
        "- Initial visualization to get a sense of the data"
      ],
      "metadata": {
        "id": "-Vrpt9XjmXUL"
      }
    },
    {
      "cell_type": "code",
      "source": [
        "# 2.1 - Extract and convert data; drop rows with missing entries\n",
        "extracted_data = df[['CPI Inflation', 'Unemployment Rate']].to_numpy()\n",
        "\n",
        "cleaned_data = np.vstack([\n",
        "    row for row in extracted_data if np.all(np.vectorize(np.isfinite)(row))\n",
        "    ])"
      ],
      "metadata": {
        "id": "CI6p_3D6pHGo"
      },
      "execution_count": null,
      "outputs": []
    },
    {
      "cell_type": "code",
      "source": [
        "# 2.2 - Create dictionaries between countries, indexes, and the data\n",
        "index_vec = np.arange(len(country_group))\n",
        "\n",
        "country_dict = {\n",
        "    country: index for country, index in zip(country_group, index_vec)\n",
        "    }\n",
        "\n",
        "index_dict = {\n",
        "    index: country for index, country in zip(index_vec, country_group)\n",
        "    }"
      ],
      "metadata": {
        "id": "zFrjTg4x-YXs"
      },
      "execution_count": null,
      "outputs": []
    },
    {
      "cell_type": "code",
      "source": [
        "# 2.3 - Data Normalization\n",
        "scaler = StandardScaler()\n",
        "cleaned_normalized_data = scaler.fit_transform(cleaned_data)\n",
        "\n",
        "n = len(cleaned_normalized_data)\n",
        "data = cleaned_normalized_data"
      ],
      "metadata": {
        "id": "K2kKxsLd_i6c"
      },
      "execution_count": null,
      "outputs": []
    },
    {
      "cell_type": "code",
      "source": [
        "# 2.5 - Initial visualization\n",
        "x = extracted_data[:, 0]\n",
        "y = extracted_data[:, 1]\n",
        "x_trans = cleaned_normalized_data[:,0]\n",
        "y_trans = cleaned_normalized_data[:,1]\n",
        "\n",
        "plt.scatter(x, y)\n",
        "plt.xlabel(\"CPI Inflation YoY in %\")\n",
        "plt.ylabel(\"ILO-modeled Unemployment Rate in %\")\n",
        "plt.title(\"Unemployment vs. Inflation\")\n",
        "plt.show()\n",
        "\n",
        "plt.scatter(x_trans, y_trans)\n",
        "plt.title(\"Unemployment vs. Inflation (normalized)\")\n",
        "plt.show()"
      ],
      "metadata": {
        "id": "jF7TcQ_wAKr4",
        "collapsed": true
      },
      "execution_count": null,
      "outputs": []
    },
    {
      "cell_type": "markdown",
      "source": [
        "**Block 3 (Determine the Number of Clusters)**\n",
        "- compute Gaussian kernel and kernel width from data (Scott's rule)\n",
        "- compute similariry matrix, degree matrix, Laplacian matrices\n",
        "- analyze spectrum of the normalized Laplacian to use eigengap heuristic for the number of clusters\n",
        "\n",
        "*See NAME.pdf for details on the underlying theory (eigengaps, kernel, Scott's rule). *"
      ],
      "metadata": {
        "id": "vB3kCFVIpHxa"
      }
    },
    {
      "cell_type": "code",
      "source": [
        "# 3.1 - Function to obtain width matrix from given data using Scott's rule\n",
        "def scotts_2d(arr: np.ndarray):\n",
        "  lenx = len(arr)\n",
        "  if arr.shape != (lenx, 2):\n",
        "    raise ValueError(\"Only for 2D data!\")\n",
        "  arr_std = np.std(arr, axis=0)\n",
        "  sigma1 = arr_std[0]\n",
        "  sigma2 = arr_std[1]\n",
        "  matrix = np.zeros((2, 2))\n",
        "  matrix[0,0] = 1/(sigma1 * lenx**(-1/6))**2\n",
        "  matrix[1,1] = 1/(sigma2 * lenx**(-1/6))**2\n",
        "  return matrix"
      ],
      "metadata": {
        "id": "xjR72FDG4l2e"
      },
      "execution_count": null,
      "outputs": []
    },
    {
      "cell_type": "code",
      "source": [
        "# 3.2 - Function to compute Gaussian kernel from width matrix and data\n",
        "def gaussian_2d(arr: np.ndarray, H: np.ndarray):\n",
        "  lenx = len(arr)\n",
        "  if arr.shape != (2,):\n",
        "    raise ValueError(\"Only for 2D data!\")\n",
        "  if H.shape != (2, 2):\n",
        "    raise ValueError(\"Bandwidth matrix out of bounds!\")\n",
        "  return np.exp(- arr.T @ H @ arr)"
      ],
      "metadata": {
        "id": "vUvbMCf-CgFF"
      },
      "execution_count": null,
      "outputs": []
    },
    {
      "cell_type": "code",
      "source": [
        "# 3.3 - Compute similarity, degree, and Laplacian matrices\n",
        "W = np.zeros((n, n))\n",
        "\n",
        "for i in range(n):\n",
        "  for j in range(n):\n",
        "    W[i, j] = gaussian_2d((data[i] - data[j]), scotts_2d(data))\n",
        "\n",
        "D = np.zeros((n,n))\n",
        "for  i in range(n):\n",
        "  D[i, i] = sum(W[i, :])\n",
        "\n",
        "D_inv_sqrt = np.zeros((n,n))\n",
        "for  i in range(n):\n",
        "  D_inv_sqrt[i,i] = 1/(np.sqrt(D[i,i]))\n",
        "\n",
        "L = D - W\n",
        "L_norm = D_inv_sqrt @ L @ D_inv_sqrt"
      ],
      "metadata": {
        "id": "24SdOiZzCp8G"
      },
      "execution_count": null,
      "outputs": []
    },
    {
      "cell_type": "code",
      "source": [
        "# 3.4 - Compute eigengaps and plot eigenvalues of the normalized Laplacian\n",
        "lambdas, v = eigh(L_norm)\n",
        "indices = np.arange(n)\n",
        "constant = np.zeros(n)\n",
        "\n",
        "plt.scatter(indices, lambdas, marker = 'o', color = 'black')\n",
        "plt.xlabel('Index')\n",
        "plt.ylabel('Eigenvalues')\n",
        "plt.xlim(0, 10)\n",
        "plt.show()\n",
        "\n",
        "eigengaps = [lambdas[k] - lambdas[k-1] for k in range(1,9)]\n",
        "for k, gap in enumerate(eigengaps, start=2):\n",
        "  print(f\"gap{k} is {gap}\")"
      ],
      "metadata": {
        "id": "QsJX54MFDaxi",
        "collapsed": true
      },
      "execution_count": null,
      "outputs": []
    },
    {
      "cell_type": "markdown",
      "source": [
        "**Block 4 (Clustering Analysis)**\n",
        "- compute the clusters\n",
        "- visualize clusters wirth colorized scatterplot and table chart"
      ],
      "metadata": {
        "id": "FECvTzCH4mX4"
      }
    },
    {
      "cell_type": "code",
      "source": [
        "# 4.1 - Spectral Clustering, n_clusters based on eigengap analysis\n",
        "clustering = SpectralClustering(n_clusters= 5, affinity='precomputed')\n",
        "labels = clustering.fit_predict(W)"
      ],
      "metadata": {
        "id": "QmbJX_EB5iIO"
      },
      "execution_count": null,
      "outputs": []
    },
    {
      "cell_type": "code",
      "source": [
        "# 4.2 - Visualize clusters with a scatterplot\n",
        "plt.scatter(extracted_data[:,0], extracted_data[:,1], c=labels, cmap=\"tab10\")\n",
        "plt.ylabel(\"Unemployment Rate (ILO Estimate)\")\n",
        "plt.xlabel(\"CPI Inflation\")\n",
        "plt.title(\"Inflation vs Unemployment 2023\")\n",
        "plt.show()"
      ],
      "metadata": {
        "id": "hRHwIiYlG_VX",
        "collapsed": true
      },
      "execution_count": null,
      "outputs": []
    },
    {
      "cell_type": "code",
      "source": [
        "# 4.3 - Comprehensive list of cluster assignments\n",
        "result = [[index_dict[i], label] for i, label in enumerate(labels)]\n",
        "df_result = pd.DataFrame(result, columns=[\"Country\", \"Cluster\"])\n",
        "df_result"
      ],
      "metadata": {
        "id": "bI3jNwu1HB4K",
        "collapsed": true
      },
      "execution_count": null,
      "outputs": []
    }
  ]
}