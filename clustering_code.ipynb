{
  "nbformat": 4,
  "nbformat_minor": 0,
  "metadata": {
    "colab": {
      "provenance": []
    },
    "kernelspec": {
      "name": "python3",
      "display_name": "Python 3"
    },
    "language_info": {
      "name": "python"
    }
  },
  "cells": [
    {
      "cell_type": "markdown",
      "source": [
        "**Block 1 (Packages and Setup)**\n",
        "- install wbdata\n",
        "- import all necessary libraries\n",
        "- load data (wbdata or local file)"
      ],
      "metadata": {
        "id": "4P-kxjnblXNh"
      }
    },
    {
      "cell_type": "code",
      "execution_count": null,
      "metadata": {
        "id": "iexZDK3HdBFG",
        "colab": {
          "base_uri": "https://localhost:8080/",
          "height": 929
        },
        "outputId": "3f46b959-a883-4c41-a0a5-01db8ac9d296",
        "collapsed": true
      },
      "outputs": [
        {
          "output_type": "stream",
          "name": "stdout",
          "text": [
            "Collecting wbdata\n",
            "  Downloading wbdata-1.0.0-py3-none-any.whl.metadata (2.6 kB)\n",
            "Collecting appdirs<2.0,>=1.4 (from wbdata)\n",
            "  Downloading appdirs-1.4.4-py2.py3-none-any.whl.metadata (9.0 kB)\n",
            "Collecting backoff<3.0.0,>=2.2.1 (from wbdata)\n",
            "  Downloading backoff-2.2.1-py3-none-any.whl.metadata (14 kB)\n",
            "Requirement already satisfied: cachetools<6.0.0,>=5.3.2 in /usr/local/lib/python3.12/dist-packages (from wbdata) (5.5.2)\n",
            "Collecting dateparser<2.0.0,>=1.2.0 (from wbdata)\n",
            "  Downloading dateparser-1.2.2-py3-none-any.whl.metadata (29 kB)\n",
            "Collecting decorator<6.0.0,>=5.1.1 (from wbdata)\n",
            "  Downloading decorator-5.2.1-py3-none-any.whl.metadata (3.9 kB)\n",
            "Requirement already satisfied: requests<3.0,>=2.0 in /usr/local/lib/python3.12/dist-packages (from wbdata) (2.32.4)\n",
            "Collecting shelved-cache<0.4.0,>=0.3.1 (from wbdata)\n",
            "  Downloading shelved_cache-0.3.1-py3-none-any.whl.metadata (4.7 kB)\n",
            "Collecting tabulate<0.9.0,>=0.8.5 (from wbdata)\n",
            "  Downloading tabulate-0.8.10-py3-none-any.whl.metadata (25 kB)\n",
            "Requirement already satisfied: python-dateutil>=2.7.0 in /usr/local/lib/python3.12/dist-packages (from dateparser<2.0.0,>=1.2.0->wbdata) (2.9.0.post0)\n",
            "Requirement already satisfied: pytz>=2024.2 in /usr/local/lib/python3.12/dist-packages (from dateparser<2.0.0,>=1.2.0->wbdata) (2025.2)\n",
            "Requirement already satisfied: regex>=2024.9.11 in /usr/local/lib/python3.12/dist-packages (from dateparser<2.0.0,>=1.2.0->wbdata) (2024.11.6)\n",
            "Requirement already satisfied: tzlocal>=0.2 in /usr/local/lib/python3.12/dist-packages (from dateparser<2.0.0,>=1.2.0->wbdata) (5.3.1)\n",
            "Requirement already satisfied: charset_normalizer<4,>=2 in /usr/local/lib/python3.12/dist-packages (from requests<3.0,>=2.0->wbdata) (3.4.3)\n",
            "Requirement already satisfied: idna<4,>=2.5 in /usr/local/lib/python3.12/dist-packages (from requests<3.0,>=2.0->wbdata) (3.10)\n",
            "Requirement already satisfied: urllib3<3,>=1.21.1 in /usr/local/lib/python3.12/dist-packages (from requests<3.0,>=2.0->wbdata) (2.5.0)\n",
            "Requirement already satisfied: certifi>=2017.4.17 in /usr/local/lib/python3.12/dist-packages (from requests<3.0,>=2.0->wbdata) (2025.8.3)\n",
            "Requirement already satisfied: six>=1.5 in /usr/local/lib/python3.12/dist-packages (from python-dateutil>=2.7.0->dateparser<2.0.0,>=1.2.0->wbdata) (1.17.0)\n",
            "Downloading wbdata-1.0.0-py3-none-any.whl (18 kB)\n",
            "Downloading appdirs-1.4.4-py2.py3-none-any.whl (9.6 kB)\n",
            "Downloading backoff-2.2.1-py3-none-any.whl (15 kB)\n",
            "Downloading dateparser-1.2.2-py3-none-any.whl (315 kB)\n",
            "\u001b[2K   \u001b[90m━━━━━━━━━━━━━━━━━━━━━━━━━━━━━━━━━━━━━━━━\u001b[0m \u001b[32m315.5/315.5 kB\u001b[0m \u001b[31m12.0 MB/s\u001b[0m eta \u001b[36m0:00:00\u001b[0m\n",
            "\u001b[?25hDownloading decorator-5.2.1-py3-none-any.whl (9.2 kB)\n",
            "Downloading shelved_cache-0.3.1-py3-none-any.whl (7.8 kB)\n",
            "Downloading tabulate-0.8.10-py3-none-any.whl (29 kB)\n",
            "Installing collected packages: appdirs, tabulate, shelved-cache, decorator, backoff, dateparser, wbdata\n",
            "  Attempting uninstall: tabulate\n",
            "    Found existing installation: tabulate 0.9.0\n",
            "    Uninstalling tabulate-0.9.0:\n",
            "      Successfully uninstalled tabulate-0.9.0\n",
            "  Attempting uninstall: decorator\n",
            "    Found existing installation: decorator 4.4.2\n",
            "    Uninstalling decorator-4.4.2:\n",
            "      Successfully uninstalled decorator-4.4.2\n",
            "\u001b[31mERROR: pip's dependency resolver does not currently take into account all the packages that are installed. This behaviour is the source of the following dependency conflicts.\n",
            "ipython 7.34.0 requires jedi>=0.16, which is not installed.\n",
            "moviepy 1.0.3 requires decorator<5.0,>=4.0.2, but you have decorator 5.2.1 which is incompatible.\n",
            "bigframes 2.21.0 requires tabulate>=0.9, but you have tabulate 0.8.10 which is incompatible.\u001b[0m\u001b[31m\n",
            "\u001b[0mSuccessfully installed appdirs-1.4.4 backoff-2.2.1 dateparser-1.2.2 decorator-5.2.1 shelved-cache-0.3.1 tabulate-0.8.10 wbdata-1.0.0\n"
          ]
        },
        {
          "output_type": "display_data",
          "data": {
            "application/vnd.colab-display-data+json": {
              "pip_warning": {
                "packages": [
                  "decorator"
                ]
              },
              "id": "564db71f3e1c442db49a535f360b8aea"
            }
          },
          "metadata": {}
        }
      ],
      "source": [
        "# 1.1 - installing wbdata (colab based)\n",
        "!pip install wbdata"
      ]
    },
    {
      "cell_type": "code",
      "source": [
        "# 1.2 - import packages\n",
        "import wbdata\n",
        "import datetime\n",
        "import pandas as pd\n",
        "import numpy as np\n",
        "from google.colab import files\n",
        "from sklearn.preprocessing import StandardScaler\n",
        "from sklearn.cluster import SpectralClustering\n",
        "from scipy.linalg import eigh\n",
        "import matplotlib.pyplot as plt"
      ],
      "metadata": {
        "id": "uAS4nthfd6yt"
      },
      "execution_count": null,
      "outputs": []
    },
    {
      "cell_type": "code",
      "source": [
        "# 1.3 - download data (unemployment, cpi inflation)\n",
        "country_group = [\n",
        "    \"MWI\", \"MLI\", \"MLT\", \"NLD\", \"GMB\", \"GBR\", \"USA\", \"ARE\", \"AFG\", \"AUT\",\n",
        "    \"AUS\", \"BFA\", \"BDI\", \"BEN\", \"DNK\", \"ETH\", \"DJI\", \"FIN\", \"FRA\", \"DEU\",\n",
        "    \"IRL\", \"JPN\", \"LSO\", \"LUX\", \"LBR\", \"NER\", \"NOR\", \"PAK\", \"SVN\", \"SGP\",\n",
        "    \"ESP\", \"GIN\", \"GNB\", \"HKG\", \"ISL\", \"CHE\", \"SWE\", \"ISR\", \"KOR\", \"MOZ\",\n",
        "    \"TCD\", \"TZA\", \"SLE\", \"MDG\", \"CAF\", \"HTI\", \"SEN\", \"BEL\", \"CAN\", \"SSD\",\n",
        "    \"CZE\", \"NGA\", \"MRT\", \"TGO\", \"ITA\", \"CYP\", \"PNG\", \"RWA\", \"UGA\", \"CIV\",\n",
        "    \"GRC\", \"POL\", \"EST\", \"SAU\", \"BHR\", \"LTU\", \"SLB\", \"CMR\", \"ZMB\", \"KHM\"\n",
        "    ]\n",
        "\n",
        "indicators = {\n",
        "    \"FP.CPI.TOTL.ZG\": \"CPI Inflation\",\n",
        "    \"SL.UEM.TOTL.ZS\": \"Unemployment Rate\",\n",
        "    \"FD.RES.LIQU.AS.ZS\": \"Bank Liquid to Assets\"\n",
        "    }\n",
        "\n",
        "date_10 = (datetime.datetime(2010, 1, 1), datetime.datetime(2010, 12, 31))\n",
        "date_13 = (datetime.datetime(2013, 1, 1), datetime.datetime(2013, 12, 31))\n",
        "date_23 = (datetime.datetime(2023, 1, 1), datetime.datetime(2023, 12, 31))\n",
        "date_18 = (datetime.datetime(2018, 1, 1), datetime.datetime(2018, 12, 31))\n",
        "df = wbdata.get_dataframe(indicators, country=country_group, date=date_23)\n",
        "df.reset_index(inplace=True)"
      ],
      "metadata": {
        "id": "OprbnWsheMyu"
      },
      "execution_count": null,
      "outputs": []
    },
    {
      "cell_type": "code",
      "source": [
        "# 1.4 - workaround in case of wbdata API issues (either execute 1.3 or 1.4)\n",
        "df_alternative = pd.read_csv(\".csv\")"
      ],
      "metadata": {
        "id": "fV66qkJJgSfW"
      },
      "execution_count": null,
      "outputs": []
    },
    {
      "cell_type": "markdown",
      "source": [
        "**Block 2 (Data Cleaning and Transformation)**\n",
        "- Convert DataFrames to np.ndarray\n",
        "- Ensure feature vectors are ready for analysis (drop non-numeric entries etc.)\n",
        "- Build dictionaries between data, data index, and country names\n",
        "- Initial visualization to get a sense of the data"
      ],
      "metadata": {
        "id": "-Vrpt9XjmXUL"
      }
    },
    {
      "cell_type": "code",
      "source": [
        "# 2.1 - Extract and convert data; drop rows with missing entries\n",
        "extracted_data = df[['CPI Inflation', 'Unemployment Rate']].to_numpy()\n",
        "\n",
        "cleaned_data = np.vstack([\n",
        "    row for row in extracted_data if np.all(np.vectorize(np.isfinite)(row))\n",
        "    ])"
      ],
      "metadata": {
        "id": "CI6p_3D6pHGo"
      },
      "execution_count": null,
      "outputs": []
    },
    {
      "cell_type": "code",
      "source": [
        "# 2.2 - Create dictionaries between countries, indexes, and the data\n",
        "index_vec = np.arange(len(country_group))\n",
        "\n",
        "country_dict = {\n",
        "    country: index for country, index in zip(country_group, index_vec)\n",
        "    }\n",
        "\n",
        "index_dict = {\n",
        "    index: country for index, country in zip(index_vec, country_group)\n",
        "    }"
      ],
      "metadata": {
        "id": "zFrjTg4x-YXs"
      },
      "execution_count": null,
      "outputs": []
    },
    {
      "cell_type": "code",
      "source": [
        "# 2.3 - Data Normalization\n",
        "scaler = StandardScaler()\n",
        "cleaned_normalized_data = scaler.fit_transform(cleaned_data)\n",
        "\n",
        "n = len(cleaned_normalized_data)\n",
        "data = cleaned_normalized_data"
      ],
      "metadata": {
        "id": "K2kKxsLd_i6c"
      },
      "execution_count": null,
      "outputs": []
    },
    {
      "cell_type": "code",
      "source": [
        "# 2.5 - Initial visualization\n",
        "x = extracted_data[:, 0]\n",
        "y = extracted_data[:, 1]\n",
        "x_trans = cleaned_normalized_data[:,0]\n",
        "y_trans = cleaned_normalized_data[:,1]\n",
        "\n",
        "plt.scatter(x, y)\n",
        "plt.xlabel(\"CPI Inflation YoY in %\")\n",
        "plt.ylabel(\"ILO-modeled Unemployment Rate in %\")\n",
        "plt.title(\"Unemployment vs. Inflation\")\n",
        "plt.show()\n",
        "\n",
        "plt.scatter(x_trans, y_trans)\n",
        "plt.title(\"Unemployment vs. Inflation (normalized)\")\n",
        "plt.show()"
      ],
      "metadata": {
        "colab": {
          "base_uri": "https://localhost:8080/",
          "height": 907
        },
        "id": "jF7TcQ_wAKr4",
        "outputId": "0ff5e798-689d-4a4a-e9c1-48a87434068a",
        "collapsed": true
      },
      "execution_count": null,
      "outputs": [
        {
          "output_type": "display_data",
          "data": {
            "text/plain": [
              "<Figure size 640x480 with 1 Axes>"
            ],
            "image/png": "[encoded data removed]"
          },
          "metadata": {}
        },
        {
          "output_type": "display_data",
          "data": {
            "text/plain": [
              "<Figure size 640x480 with 1 Axes>"
            ],
            "image/png": "[encoded data removed]"
          },
          "metadata": {}
        }
      ]
    },
    {
      "cell_type": "markdown",
      "source": [
        "**Block 3 (Determine the Number of Clusters)**\n",
        "- compute Gaussian kernel and kernel width from data (Scott's rule)\n",
        "- compute similariry matrix, degree matrix, Laplacian matrices\n",
        "- analyze spectrum of the normalized Laplacian to use eigengap heuristic for the number of clusters\n",
        "\n",
        "*See NAME.pdf for details on the underlying theory (eigengaps, kernel, Scott's rule). *"
      ],
      "metadata": {
        "id": "vB3kCFVIpHxa"
      }
    },
    {
      "cell_type": "code",
      "source": [
        "# 3.1 - Function to obtain width matrix from given data using Scott's rule\n",
        "def scotts_2d(arr: np.ndarray):\n",
        "  lenx = len(arr)\n",
        "  if arr.shape != (lenx, 2):\n",
        "    raise ValueError(\"Only for 2D data!\")\n",
        "  arr_std = np.std(arr, axis=0)\n",
        "  sigma1 = arr_std[0]\n",
        "  sigma2 = arr_std[1]\n",
        "  matrix = np.zeros((2, 2))\n",
        "  matrix[0,0] = 1/(sigma1 * lenx**(-1/6))**2\n",
        "  matrix[1,1] = 1/(sigma2 * lenx**(-1/6))**2\n",
        "  return matrix"
      ],
      "metadata": {
        "id": "xjR72FDG4l2e"
      },
      "execution_count": null,
      "outputs": []
    },
    {
      "cell_type": "code",
      "source": [
        "# 3.2 - Function to compute Gaussian kernel from width matrix and data\n",
        "def gaussian_2d(arr: np.ndarray, H: np.ndarray):\n",
        "  lenx = len(arr)\n",
        "  if arr.shape != (2,):\n",
        "    raise ValueError(\"Only for 2D data!\")\n",
        "  if H.shape != (2, 2):\n",
        "    raise ValueError(\"Bandwidth matrix out of bounds!\")\n",
        "  return np.exp(- arr.T @ H @ arr)"
      ],
      "metadata": {
        "id": "vUvbMCf-CgFF"
      },
      "execution_count": null,
      "outputs": []
    },
    {
      "cell_type": "code",
      "source": [
        "# 3.3 - Compute similarity, degree, and Laplacian matrices\n",
        "W = np.zeros((n, n))\n",
        "\n",
        "for i in range(n):\n",
        "  for j in range(n):\n",
        "    W[i, j] = gaussian_2d((data[i] - data[j]), scotts_2d(data))\n",
        "\n",
        "D = np.zeros((n,n))\n",
        "for  i in range(n):\n",
        "  D[i, i] = sum(W[i, :])\n",
        "\n",
        "D_inv_sqrt = np.zeros((n,n))\n",
        "for  i in range(n):\n",
        "  D_inv_sqrt[i,i] = 1/(np.sqrt(D[i,i]))\n",
        "\n",
        "L = D - W\n",
        "L_norm = D_inv_sqrt @ L @ D_inv_sqrt"
      ],
      "metadata": {
        "id": "24SdOiZzCp8G"
      },
      "execution_count": null,
      "outputs": []
    },
    {
      "cell_type": "code",
      "source": [
        "# 3.4 - Compute eigengaps and plot eigenvalues of the normalized Laplacian\n",
        "lambdas, v = eigh(L_norm)\n",
        "indices = np.arange(n)\n",
        "constant = np.zeros(n)\n",
        "\n",
        "plt.scatter(indices, lambdas, marker = 'o', color = 'black')\n",
        "plt.xlabel('Index')\n",
        "plt.ylabel('Eigenvalues')\n",
        "plt.xlim(0, 10)\n",
        "plt.show()\n",
        "\n",
        "eigengaps = [lambdas[k] - lambdas[k-1] for k in range(1,9)]\n",
        "for k, gap in enumerate(eigengaps, start=2):\n",
        "  print(f\"gap{k} is {gap}\")"
      ],
      "metadata": {
        "colab": {
          "base_uri": "https://localhost:8080/",
          "height": 588
        },
        "id": "QsJX54MFDaxi",
        "outputId": "d21743b4-a12c-412e-d253-0e6f213a88bd",
        "collapsed": true
      },
      "execution_count": null,
      "outputs": [
        {
          "output_type": "display_data",
          "data": {
            "text/plain": [
              "<Figure size 640x480 with 1 Axes>"
            ],
            "image/png": "[encoded data removed]"
          },
          "metadata": {}
        },
        {
          "output_type": "stream",
          "name": "stdout",
          "text": [
            "gap2 is 1.3070757948919998e-10\n",
            "gap3 is 1.629355154940483e-07\n",
            "gap4 is 2.8861149511543827e-07\n",
            "gap5 is 0.00027378791400976425\n",
            "gap6 is 0.0001787807267841215\n",
            "gap7 is 0.020580220989754358\n",
            "gap8 is 0.019828555142211046\n",
            "gap9 is 0.04167146271041844\n"
          ]
        }
      ]
    },
    {
      "cell_type": "markdown",
      "source": [
        "**Block 4 (Clustering Analysis)**\n",
        "- compute the clusters\n",
        "- visualize clusters wirth colorized scatterplot and table chart"
      ],
      "metadata": {
        "id": "FECvTzCH4mX4"
      }
    },
    {
      "cell_type": "code",
      "source": [
        "# 4.1 - Spectral Clustering, n_clusters based on eigengap analysis\n",
        "clustering = SpectralClustering(n_clusters= 5, affinity='precomputed')\n",
        "labels = clustering.fit_predict(W)"
      ],
      "metadata": {
        "id": "QmbJX_EB5iIO"
      },
      "execution_count": null,
      "outputs": []
    },
    {
      "cell_type": "code",
      "source": [
        "# 4.2 - Visualize clusters with a scatterplot\n",
        "plt.scatter(extracted_data[:,0], extracted_data[:,1], c=labels, cmap=\"tab10\")\n",
        "plt.ylabel(\"Unemployment Rate (ILO Estimate)\")\n",
        "plt.xlabel(\"CPI Inflation\")\n",
        "plt.title(\"Inflation vs Unemployment 2023\")\n",
        "plt.show()"
      ],
      "metadata": {
        "colab": {
          "base_uri": "https://localhost:8080/",
          "height": 472
        },
        "id": "hRHwIiYlG_VX",
        "outputId": "f7e4d5fc-2df5-4425-9f23-c93571d3687d",
        "collapsed": true
      },
      "execution_count": null,
      "outputs": [
        {
          "output_type": "display_data",
          "data": {
            "text/plain": [
              "<Figure size 640x480 with 1 Axes>"
            ],
            "image/png": "[encoded data removed]"
          },
          "metadata": {}
        }
      ]
    },
    {
      "cell_type": "code",
      "source": [
        "# 4.3 - Comprehensive list of cluster assignments\n",
        "result = [[index_dict[i], label] for i, label in enumerate(labels)]\n",
        "df_result = pd.DataFrame(result, columns=[\"Country\", \"Cluster\"])\n",
        "df_result"
      ],
      "metadata": {
        "colab": {
          "base_uri": "https://localhost:8080/",
          "height": 687
        },
        "id": "bI3jNwu1HB4K",
        "outputId": "b26514d5-b6d8-4c84-fc07-ce2ac2372527",
        "collapsed": true
      },
      "execution_count": null,
      "outputs": [
        {
          "output_type": "execute_result",
          "data": {
            "text/plain": [
              "   Country  Cluster\n",
              "0      MWI        2\n",
              "1      MLI        3\n",
              "2      MLT        3\n",
              "3      NLD        3\n",
              "4      GMB        1\n",
              "..     ...      ...\n",
              "65     LTU        3\n",
              "66     SLB        3\n",
              "67     CMR        3\n",
              "68     ZMB        3\n",
              "69     KHM        0\n",
              "\n",
              "[70 rows x 2 columns]"
            ],
            "text/html": [
              "\n",
              "  <div id=\"df-736c3e4b-9a18-4890-99c4-6a284accdebe\" class=\"colab-df-container\">\n",
              "    <div>\n",
              "<style scoped>\n",
              "    .dataframe tbody tr th:only-of-type {\n",
              "        vertical-align: middle;\n",
              "    }\n",
              "\n",
              "    .dataframe tbody tr th {\n",
              "        vertical-align: top;\n",
              "    }\n",
              "\n",
              "    .dataframe thead th {\n",
              "        text-align: right;\n",
              "    }\n",
              "</style>\n",
              "<table border=\"1\" class=\"dataframe\">\n",
              "  <thead>\n",
              "    <tr style=\"text-align: right;\">\n",
              "      <th></th>\n",
              "      <th>Country</th>\n",
              "      <th>Cluster</th>\n",
              "    </tr>\n",
              "  </thead>\n",
              "  <tbody>\n",
              "    <tr>\n",
              "      <th>0</th>\n",
              "      <td>MWI</td>\n",
              "      <td>2</td>\n",
              "    </tr>\n",
              "    <tr>\n",
              "      <th>1</th>\n",
              "      <td>MLI</td>\n",
              "      <td>3</td>\n",
              "    </tr>\n",
              "    <tr>\n",
              "      <th>2</th>\n",
              "      <td>MLT</td>\n",
              "      <td>3</td>\n",
              "    </tr>\n",
              "    <tr>\n",
              "      <th>3</th>\n",
              "      <td>NLD</td>\n",
              "      <td>3</td>\n",
              "    </tr>\n",
              "    <tr>\n",
              "      <th>4</th>\n",
              "      <td>GMB</td>\n",
              "      <td>1</td>\n",
              "    </tr>\n",
              "    <tr>\n",
              "      <th>...</th>\n",
              "      <td>...</td>\n",
              "      <td>...</td>\n",
              "    </tr>\n",
              "    <tr>\n",
              "      <th>65</th>\n",
              "      <td>LTU</td>\n",
              "      <td>3</td>\n",
              "    </tr>\n",
              "    <tr>\n",
              "      <th>66</th>\n",
              "      <td>SLB</td>\n",
              "      <td>3</td>\n",
              "    </tr>\n",
              "    <tr>\n",
              "      <th>67</th>\n",
              "      <td>CMR</td>\n",
              "      <td>3</td>\n",
              "    </tr>\n",
              "    <tr>\n",
              "      <th>68</th>\n",
              "      <td>ZMB</td>\n",
              "      <td>3</td>\n",
              "    </tr>\n",
              "    <tr>\n",
              "      <th>69</th>\n",
              "      <td>KHM</td>\n",
              "      <td>0</td>\n",
              "    </tr>\n",
              "  </tbody>\n",
              "</table>\n",
              "<p>70 rows × 2 columns</p>\n",
              "</div>\n",
              "    <div class=\"colab-df-buttons\">\n",
              "\n",
              "  <div class=\"colab-df-container\">\n",
              "    <button class=\"colab-df-convert\" onclick=\"convertToInteractive('df-736c3e4b-9a18-4890-99c4-6a284accdebe')\"\n",
              "            title=\"Convert this dataframe to an interactive table.\"\n",
              "            style=\"display:none;\">\n",
              "\n",
              "  <svg xmlns=\"http://www.w3.org/2000/svg\" height=\"24px\" viewBox=\"0 -960 960 960\">\n",
              "    <path d=\"M120-120v-720h720v720H120Zm60-500h600v-160H180v160Zm220 220h160v-160H400v160Zm0 220h160v-160H400v160ZM180-400h160v-160H180v160Zm440 0h160v-160H620v160ZM180-180h160v-160H180v160Zm440 0h160v-160H620v160Z\"/>\n",
              "  </svg>\n",
              "    </button>\n",
              "\n",
              "  <style>\n",
              "    .colab-df-container {\n",
              "      display:flex;\n",
              "      gap: 12px;\n",
              "    }\n",
              "\n",
              "    .colab-df-convert {\n",
              "      background-color: #E8F0FE;\n",
              "      border: none;\n",
              "      border-radius: 50%;\n",
              "      cursor: pointer;\n",
              "      display: none;\n",
              "      fill: #1967D2;\n",
              "      height: 32px;\n",
              "      padding: 0 0 0 0;\n",
              "      width: 32px;\n",
              "    }\n",
              "\n",
              "    .colab-df-convert:hover {\n",
              "      background-color: #E2EBFA;\n",
              "      box-shadow: 0px 1px 2px rgba(60, 64, 67, 0.3), 0px 1px 3px 1px rgba(60, 64, 67, 0.15);\n",
              "      fill: #174EA6;\n",
              "    }\n",
              "\n",
              "    .colab-df-buttons div {\n",
              "      margin-bottom: 4px;\n",
              "    }\n",
              "\n",
              "    [theme=dark] .colab-df-convert {\n",
              "      background-color: #3B4455;\n",
              "      fill: #D2E3FC;\n",
              "    }\n",
              "\n",
              "    [theme=dark] .colab-df-convert:hover {\n",
              "      background-color: #434B5C;\n",
              "      box-shadow: 0px 1px 3px 1px rgba(0, 0, 0, 0.15);\n",
              "      filter: drop-shadow(0px 1px 2px rgba(0, 0, 0, 0.3));\n",
              "      fill: #FFFFFF;\n",
              "    }\n",
              "  </style>\n",
              "\n",
              "    <script>\n",
              "      const buttonEl =\n",
              "        document.querySelector('#df-736c3e4b-9a18-4890-99c4-6a284accdebe button.colab-df-convert');\n",
              "      buttonEl.style.display =\n",
              "        google.colab.kernel.accessAllowed ? 'block' : 'none';\n",
              "\n",
              "      async function convertToInteractive(key) {\n",
              "        const element = document.querySelector('#df-736c3e4b-9a18-4890-99c4-6a284accdebe');\n",
              "        const dataTable =\n",
              "          await google.colab.kernel.invokeFunction('convertToInteractive',\n",
              "                                                    [key], {});\n",
              "        if (!dataTable) return;\n",
              "\n",
              "        const docLinkHtml = 'Like what you see? Visit the ' +\n",
              "          '<a target=\"_blank\" href=https://colab.research.google.com/notebooks/data_table.ipynb>data table notebook</a>'\n",
              "          + ' to learn more about interactive tables.';\n",
              "        element.innerHTML = '';\n",
              "        dataTable['output_type'] = 'display_data';\n",
              "        await google.colab.output.renderOutput(dataTable, element);\n",
              "        const docLink = document.createElement('div');\n",
              "        docLink.innerHTML = docLinkHtml;\n",
              "        element.appendChild(docLink);\n",
              "      }\n",
              "    </script>\n",
              "  </div>\n",
              "\n",
              "\n",
              "    <div id=\"df-4e67fddb-346f-41a0-9e2a-e35533c7a17b\">\n",
              "      <button class=\"colab-df-quickchart\" onclick=\"quickchart('df-4e67fddb-346f-41a0-9e2a-e35533c7a17b')\"\n",
              "                title=\"Suggest charts\"\n",
              "                style=\"display:none;\">\n",
              "\n",
              "<svg xmlns=\"http://www.w3.org/2000/svg\" height=\"24px\"viewBox=\"0 0 24 24\"\n",
              "     width=\"24px\">\n",
              "    <g>\n",
              "        <path d=\"M19 3H5c-1.1 0-2 .9-2 2v14c0 1.1.9 2 2 2h14c1.1 0 2-.9 2-2V5c0-1.1-.9-2-2-2zM9 17H7v-7h2v7zm4 0h-2V7h2v10zm4 0h-2v-4h2v4z\"/>\n",
              "    </g>\n",
              "</svg>\n",
              "      </button>\n",
              "\n",
              "<style>\n",
              "  .colab-df-quickchart {\n",
              "      --bg-color: #E8F0FE;\n",
              "      --fill-color: #1967D2;\n",
              "      --hover-bg-color: #E2EBFA;\n",
              "      --hover-fill-color: #174EA6;\n",
              "      --disabled-fill-color: #AAA;\n",
              "      --disabled-bg-color: #DDD;\n",
              "  }\n",
              "\n",
              "  [theme=dark] .colab-df-quickchart {\n",
              "      --bg-color: #3B4455;\n",
              "      --fill-color: #D2E3FC;\n",
              "      --hover-bg-color: #434B5C;\n",
              "      --hover-fill-color: #FFFFFF;\n",
              "      --disabled-bg-color: #3B4455;\n",
              "      --disabled-fill-color: #666;\n",
              "  }\n",
              "\n",
              "  .colab-df-quickchart {\n",
              "    background-color: var(--bg-color);\n",
              "    border: none;\n",
              "    border-radius: 50%;\n",
              "    cursor: pointer;\n",
              "    display: none;\n",
              "    fill: var(--fill-color);\n",
              "    height: 32px;\n",
              "    padding: 0;\n",
              "    width: 32px;\n",
              "  }\n",
              "\n",
              "  .colab-df-quickchart:hover {\n",
              "    background-color: var(--hover-bg-color);\n",
              "    box-shadow: 0 1px 2px rgba(60, 64, 67, 0.3), 0 1px 3px 1px rgba(60, 64, 67, 0.15);\n",
              "    fill: var(--button-hover-fill-color);\n",
              "  }\n",
              "\n",
              "  .colab-df-quickchart-complete:disabled,\n",
              "  .colab-df-quickchart-complete:disabled:hover {\n",
              "    background-color: var(--disabled-bg-color);\n",
              "    fill: var(--disabled-fill-color);\n",
              "    box-shadow: none;\n",
              "  }\n",
              "\n",
              "  .colab-df-spinner {\n",
              "    border: 2px solid var(--fill-color);\n",
              "    border-color: transparent;\n",
              "    border-bottom-color: var(--fill-color);\n",
              "    animation:\n",
              "      spin 1s steps(1) infinite;\n",
              "  }\n",
              "\n",
              "  @keyframes spin {\n",
              "    0% {\n",
              "      border-color: transparent;\n",
              "      border-bottom-color: var(--fill-color);\n",
              "      border-left-color: var(--fill-color);\n",
              "    }\n",
              "    20% {\n",
              "      border-color: transparent;\n",
              "      border-left-color: var(--fill-color);\n",
              "      border-top-color: var(--fill-color);\n",
              "    }\n",
              "    30% {\n",
              "      border-color: transparent;\n",
              "      border-left-color: var(--fill-color);\n",
              "      border-top-color: var(--fill-color);\n",
              "      border-right-color: var(--fill-color);\n",
              "    }\n",
              "    40% {\n",
              "      border-color: transparent;\n",
              "      border-right-color: var(--fill-color);\n",
              "      border-top-color: var(--fill-color);\n",
              "    }\n",
              "    60% {\n",
              "      border-color: transparent;\n",
              "      border-right-color: var(--fill-color);\n",
              "    }\n",
              "    80% {\n",
              "      border-color: transparent;\n",
              "      border-right-color: var(--fill-color);\n",
              "      border-bottom-color: var(--fill-color);\n",
              "    }\n",
              "    90% {\n",
              "      border-color: transparent;\n",
              "      border-bottom-color: var(--fill-color);\n",
              "    }\n",
              "  }\n",
              "</style>\n",
              "\n",
              "      <script>\n",
              "        async function quickchart(key) {\n",
              "          const quickchartButtonEl =\n",
              "            document.querySelector('#' + key + ' button');\n",
              "          quickchartButtonEl.disabled = true;  // To prevent multiple clicks.\n",
              "          quickchartButtonEl.classList.add('colab-df-spinner');\n",
              "          try {\n",
              "            const charts = await google.colab.kernel.invokeFunction(\n",
              "                'suggestCharts', [key], {});\n",
              "          } catch (error) {\n",
              "            console.error('Error during call to suggestCharts:', error);\n",
              "          }\n",
              "          quickchartButtonEl.classList.remove('colab-df-spinner');\n",
              "          quickchartButtonEl.classList.add('colab-df-quickchart-complete');\n",
              "        }\n",
              "        (() => {\n",
              "          let quickchartButtonEl =\n",
              "            document.querySelector('#df-4e67fddb-346f-41a0-9e2a-e35533c7a17b button');\n",
              "          quickchartButtonEl.style.display =\n",
              "            google.colab.kernel.accessAllowed ? 'block' : 'none';\n",
              "        })();\n",
              "      </script>\n",
              "    </div>\n",
              "\n",
              "  <div id=\"id_b9b6190b-6659-45dc-a146-c47fe93967ae\">\n",
              "    <style>\n",
              "      .colab-df-generate {\n",
              "        background-color: #E8F0FE;\n",
              "        border: none;\n",
              "        border-radius: 50%;\n",
              "        cursor: pointer;\n",
              "        display: none;\n",
              "        fill: #1967D2;\n",
              "        height: 32px;\n",
              "        padding: 0 0 0 0;\n",
              "        width: 32px;\n",
              "      }\n",
              "\n",
              "      .colab-df-generate:hover {\n",
              "        background-color: #E2EBFA;\n",
              "        box-shadow: 0px 1px 2px rgba(60, 64, 67, 0.3), 0px 1px 3px 1px rgba(60, 64, 67, 0.15);\n",
              "        fill: #174EA6;\n",
              "      }\n",
              "\n",
              "      [theme=dark] .colab-df-generate {\n",
              "        background-color: #3B4455;\n",
              "        fill: #D2E3FC;\n",
              "      }\n",
              "\n",
              "      [theme=dark] .colab-df-generate:hover {\n",
              "        background-color: #434B5C;\n",
              "        box-shadow: 0px 1px 3px 1px rgba(0, 0, 0, 0.15);\n",
              "        filter: drop-shadow(0px 1px 2px rgba(0, 0, 0, 0.3));\n",
              "        fill: #FFFFFF;\n",
              "      }\n",
              "    </style>\n",
              "    <button class=\"colab-df-generate\" onclick=\"generateWithVariable('df_result')\"\n",
              "            title=\"Generate code using this dataframe.\"\n",
              "            style=\"display:none;\">\n",
              "\n",
              "  <svg xmlns=\"http://www.w3.org/2000/svg\" height=\"24px\"viewBox=\"0 0 24 24\"\n",
              "       width=\"24px\">\n",
              "    <path d=\"M7,19H8.4L18.45,9,17,7.55,7,17.6ZM5,21V16.75L18.45,3.32a2,2,0,0,1,2.83,0l1.4,1.43a1.91,1.91,0,0,1,.58,1.4,1.91,1.91,0,0,1-.58,1.4L9.25,21ZM18.45,9,17,7.55Zm-12,3A5.31,5.31,0,0,0,4.9,8.1,5.31,5.31,0,0,0,1,6.5,5.31,5.31,0,0,0,4.9,4.9,5.31,5.31,0,0,0,6.5,1,5.31,5.31,0,0,0,8.1,4.9,5.31,5.31,0,0,0,12,6.5,5.46,5.46,0,0,0,6.5,12Z\"/>\n",
              "  </svg>\n",
              "    </button>\n",
              "    <script>\n",
              "      (() => {\n",
              "      const buttonEl =\n",
              "        document.querySelector('#id_b9b6190b-6659-45dc-a146-c47fe93967ae button.colab-df-generate');\n",
              "      buttonEl.style.display =\n",
              "        google.colab.kernel.accessAllowed ? 'block' : 'none';\n",
              "\n",
              "      buttonEl.onclick = () => {\n",
              "        google.colab.notebook.generateWithVariable('df_result');\n",
              "      }\n",
              "      })();\n",
              "    </script>\n",
              "  </div>\n",
              "\n",
              "    </div>\n",
              "  </div>\n"
            ],
            "application/vnd.google.colaboratory.intrinsic+json": {
              "type": "dataframe",
              "variable_name": "df_result",
              "summary": "{\n  \"name\": \"df_result\",\n  \"rows\": 70,\n  \"fields\": [\n    {\n      \"column\": \"Country\",\n      \"properties\": {\n        \"dtype\": \"string\",\n        \"num_unique_values\": 70,\n        \"samples\": [\n          \"LSO\",\n          \"MWI\",\n          \"SSD\"\n        ],\n        \"semantic_type\": \"\",\n        \"description\": \"\"\n      }\n    },\n    {\n      \"column\": \"Cluster\",\n      \"properties\": {\n        \"dtype\": \"int32\",\n        \"num_unique_values\": 5,\n        \"samples\": [\n          3,\n          4,\n          1\n        ],\n        \"semantic_type\": \"\",\n        \"description\": \"\"\n      }\n    }\n  ]\n}"
            }
          },
          "metadata": {},
          "execution_count": 22
        }
      ]
    }
  ]
}